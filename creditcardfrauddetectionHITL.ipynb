{
 "cells": [
  {
   "cell_type": "markdown",
   "metadata": {
    "id": "2JYyMlHosmAj"
   },
   "source": [
    "# Importing Neccessary Libraries"
   ]
  },
  {
   "cell_type": "code",
   "execution_count": 1,
   "metadata": {
    "id": "k4CmPnBtyQmt"
   },
   "outputs": [],
   "source": [
    "import tensorflow as tf\n",
    "from tensorflow.keras import Sequential\n",
    "from tensorflow.keras.layers import BatchNormalization,Dropout,Dense,Flatten,Conv1D\n",
    "from tensorflow.keras.optimizers import Adam"
   ]
  },
  {
   "cell_type": "code",
   "execution_count": 2,
   "metadata": {
    "id": "1PYshABAyQm1"
   },
   "outputs": [],
   "source": [
    "import numpy as np\n",
    "import pandas as pd\n",
    "import matplotlib.pyplot as plt\n",
    "%matplotlib inline"
   ]
  },
  {
   "cell_type": "code",
   "execution_count": 3,
   "metadata": {
    "id": "aCKRutRWyQm4"
   },
   "outputs": [],
   "source": [
    "from sklearn.model_selection import train_test_split\n",
    "from sklearn.preprocessing import StandardScaler"
   ]
  },
  {
   "cell_type": "markdown",
   "metadata": {
    "id": "XLk8uVvjstvv"
   },
   "source": [
    "# Gathering the data and assessing the data"
   ]
  },
  {
   "cell_type": "code",
   "execution_count": 196,
   "metadata": {
    "colab": {
     "base_uri": "https://localhost:8080/"
    },
    "id": "dd9S2ipD62hk",
    "outputId": "d348553e-6c40-47c4-804c-d1e91cac5c77"
   },
   "outputs": [
    {
     "name": "stdout",
     "output_type": "stream",
     "text": [
      "Drive already mounted at /content/drive; to attempt to forcibly remount, call drive.mount(\"/content/drive\", force_remount=True).\n"
     ]
    }
   ],
   "source": [
    "#from google.colab import drive\n",
    "#drive.mount('/content/drive')"
   ]
  },
  {
   "cell_type": "code",
   "execution_count": 4,
   "metadata": {
    "id": "E1GSd9y7yQm8"
   },
   "outputs": [],
   "source": [
    "df = pd.read_csv('./creditcard.csv')"
   ]
  },
  {
   "cell_type": "code",
   "execution_count": 5,
   "metadata": {
    "colab": {
     "base_uri": "https://localhost:8080/",
     "height": 236
    },
    "id": "PAikaoa3yQnA",
    "outputId": "10a2f565-7a35-442b-c6d0-c05a1d6b48cb",
    "scrolled": true
   },
   "outputs": [
    {
     "data": {
      "text/html": [
       "<div>\n",
       "<style scoped>\n",
       "    .dataframe tbody tr th:only-of-type {\n",
       "        vertical-align: middle;\n",
       "    }\n",
       "\n",
       "    .dataframe tbody tr th {\n",
       "        vertical-align: top;\n",
       "    }\n",
       "\n",
       "    .dataframe thead th {\n",
       "        text-align: right;\n",
       "    }\n",
       "</style>\n",
       "<table border=\"1\" class=\"dataframe\">\n",
       "  <thead>\n",
       "    <tr style=\"text-align: right;\">\n",
       "      <th></th>\n",
       "      <th>Time</th>\n",
       "      <th>V1</th>\n",
       "      <th>V2</th>\n",
       "      <th>V3</th>\n",
       "      <th>V4</th>\n",
       "      <th>V5</th>\n",
       "      <th>V6</th>\n",
       "      <th>V7</th>\n",
       "      <th>V8</th>\n",
       "      <th>V9</th>\n",
       "      <th>...</th>\n",
       "      <th>V21</th>\n",
       "      <th>V22</th>\n",
       "      <th>V23</th>\n",
       "      <th>V24</th>\n",
       "      <th>V25</th>\n",
       "      <th>V26</th>\n",
       "      <th>V27</th>\n",
       "      <th>V28</th>\n",
       "      <th>Amount</th>\n",
       "      <th>Class</th>\n",
       "    </tr>\n",
       "  </thead>\n",
       "  <tbody>\n",
       "    <tr>\n",
       "      <th>0</th>\n",
       "      <td>0.0</td>\n",
       "      <td>-1.359807</td>\n",
       "      <td>-0.072781</td>\n",
       "      <td>2.536347</td>\n",
       "      <td>1.378155</td>\n",
       "      <td>-0.338321</td>\n",
       "      <td>0.462388</td>\n",
       "      <td>0.239599</td>\n",
       "      <td>0.098698</td>\n",
       "      <td>0.363787</td>\n",
       "      <td>...</td>\n",
       "      <td>-0.018307</td>\n",
       "      <td>0.277838</td>\n",
       "      <td>-0.110474</td>\n",
       "      <td>0.066928</td>\n",
       "      <td>0.128539</td>\n",
       "      <td>-0.189115</td>\n",
       "      <td>0.133558</td>\n",
       "      <td>-0.021053</td>\n",
       "      <td>149.62</td>\n",
       "      <td>0</td>\n",
       "    </tr>\n",
       "    <tr>\n",
       "      <th>1</th>\n",
       "      <td>0.0</td>\n",
       "      <td>1.191857</td>\n",
       "      <td>0.266151</td>\n",
       "      <td>0.166480</td>\n",
       "      <td>0.448154</td>\n",
       "      <td>0.060018</td>\n",
       "      <td>-0.082361</td>\n",
       "      <td>-0.078803</td>\n",
       "      <td>0.085102</td>\n",
       "      <td>-0.255425</td>\n",
       "      <td>...</td>\n",
       "      <td>-0.225775</td>\n",
       "      <td>-0.638672</td>\n",
       "      <td>0.101288</td>\n",
       "      <td>-0.339846</td>\n",
       "      <td>0.167170</td>\n",
       "      <td>0.125895</td>\n",
       "      <td>-0.008983</td>\n",
       "      <td>0.014724</td>\n",
       "      <td>2.69</td>\n",
       "      <td>0</td>\n",
       "    </tr>\n",
       "    <tr>\n",
       "      <th>2</th>\n",
       "      <td>1.0</td>\n",
       "      <td>-1.358354</td>\n",
       "      <td>-1.340163</td>\n",
       "      <td>1.773209</td>\n",
       "      <td>0.379780</td>\n",
       "      <td>-0.503198</td>\n",
       "      <td>1.800499</td>\n",
       "      <td>0.791461</td>\n",
       "      <td>0.247676</td>\n",
       "      <td>-1.514654</td>\n",
       "      <td>...</td>\n",
       "      <td>0.247998</td>\n",
       "      <td>0.771679</td>\n",
       "      <td>0.909412</td>\n",
       "      <td>-0.689281</td>\n",
       "      <td>-0.327642</td>\n",
       "      <td>-0.139097</td>\n",
       "      <td>-0.055353</td>\n",
       "      <td>-0.059752</td>\n",
       "      <td>378.66</td>\n",
       "      <td>0</td>\n",
       "    </tr>\n",
       "    <tr>\n",
       "      <th>3</th>\n",
       "      <td>1.0</td>\n",
       "      <td>-0.966272</td>\n",
       "      <td>-0.185226</td>\n",
       "      <td>1.792993</td>\n",
       "      <td>-0.863291</td>\n",
       "      <td>-0.010309</td>\n",
       "      <td>1.247203</td>\n",
       "      <td>0.237609</td>\n",
       "      <td>0.377436</td>\n",
       "      <td>-1.387024</td>\n",
       "      <td>...</td>\n",
       "      <td>-0.108300</td>\n",
       "      <td>0.005274</td>\n",
       "      <td>-0.190321</td>\n",
       "      <td>-1.175575</td>\n",
       "      <td>0.647376</td>\n",
       "      <td>-0.221929</td>\n",
       "      <td>0.062723</td>\n",
       "      <td>0.061458</td>\n",
       "      <td>123.50</td>\n",
       "      <td>0</td>\n",
       "    </tr>\n",
       "    <tr>\n",
       "      <th>4</th>\n",
       "      <td>2.0</td>\n",
       "      <td>-1.158233</td>\n",
       "      <td>0.877737</td>\n",
       "      <td>1.548718</td>\n",
       "      <td>0.403034</td>\n",
       "      <td>-0.407193</td>\n",
       "      <td>0.095921</td>\n",
       "      <td>0.592941</td>\n",
       "      <td>-0.270533</td>\n",
       "      <td>0.817739</td>\n",
       "      <td>...</td>\n",
       "      <td>-0.009431</td>\n",
       "      <td>0.798278</td>\n",
       "      <td>-0.137458</td>\n",
       "      <td>0.141267</td>\n",
       "      <td>-0.206010</td>\n",
       "      <td>0.502292</td>\n",
       "      <td>0.219422</td>\n",
       "      <td>0.215153</td>\n",
       "      <td>69.99</td>\n",
       "      <td>0</td>\n",
       "    </tr>\n",
       "  </tbody>\n",
       "</table>\n",
       "<p>5 rows × 31 columns</p>\n",
       "</div>"
      ],
      "text/plain": [
       "   Time        V1        V2        V3        V4        V5        V6        V7  \\\n",
       "0   0.0 -1.359807 -0.072781  2.536347  1.378155 -0.338321  0.462388  0.239599   \n",
       "1   0.0  1.191857  0.266151  0.166480  0.448154  0.060018 -0.082361 -0.078803   \n",
       "2   1.0 -1.358354 -1.340163  1.773209  0.379780 -0.503198  1.800499  0.791461   \n",
       "3   1.0 -0.966272 -0.185226  1.792993 -0.863291 -0.010309  1.247203  0.237609   \n",
       "4   2.0 -1.158233  0.877737  1.548718  0.403034 -0.407193  0.095921  0.592941   \n",
       "\n",
       "         V8        V9  ...       V21       V22       V23       V24       V25  \\\n",
       "0  0.098698  0.363787  ... -0.018307  0.277838 -0.110474  0.066928  0.128539   \n",
       "1  0.085102 -0.255425  ... -0.225775 -0.638672  0.101288 -0.339846  0.167170   \n",
       "2  0.247676 -1.514654  ...  0.247998  0.771679  0.909412 -0.689281 -0.327642   \n",
       "3  0.377436 -1.387024  ... -0.108300  0.005274 -0.190321 -1.175575  0.647376   \n",
       "4 -0.270533  0.817739  ... -0.009431  0.798278 -0.137458  0.141267 -0.206010   \n",
       "\n",
       "        V26       V27       V28  Amount  Class  \n",
       "0 -0.189115  0.133558 -0.021053  149.62      0  \n",
       "1  0.125895 -0.008983  0.014724    2.69      0  \n",
       "2 -0.139097 -0.055353 -0.059752  378.66      0  \n",
       "3 -0.221929  0.062723  0.061458  123.50      0  \n",
       "4  0.502292  0.219422  0.215153   69.99      0  \n",
       "\n",
       "[5 rows x 31 columns]"
      ]
     },
     "execution_count": 5,
     "metadata": {},
     "output_type": "execute_result"
    }
   ],
   "source": [
    "df.head()"
   ]
  },
  {
   "cell_type": "code",
   "execution_count": 199,
   "metadata": {
    "colab": {
     "base_uri": "https://localhost:8080/"
    },
    "id": "hPl8RE4jyQnF",
    "outputId": "b059064a-2c11-421f-f747-38b7a9aa4e09"
   },
   "outputs": [
    {
     "data": {
      "text/plain": [
       "(284807, 31)"
      ]
     },
     "execution_count": 199,
     "metadata": {},
     "output_type": "execute_result"
    }
   ],
   "source": [
    "df.shape"
   ]
  },
  {
   "cell_type": "code",
   "execution_count": 200,
   "metadata": {
    "colab": {
     "base_uri": "https://localhost:8080/"
    },
    "id": "RdRbdq8xyQnJ",
    "outputId": "87f5c12f-9900-4541-fc70-1bd8e918ce51",
    "scrolled": true
   },
   "outputs": [
    {
     "name": "stdout",
     "output_type": "stream",
     "text": [
      "<class 'pandas.core.frame.DataFrame'>\n",
      "RangeIndex: 284807 entries, 0 to 284806\n",
      "Data columns (total 31 columns):\n",
      " #   Column  Non-Null Count   Dtype  \n",
      "---  ------  --------------   -----  \n",
      " 0   Time    284807 non-null  float64\n",
      " 1   V1      284807 non-null  float64\n",
      " 2   V2      284807 non-null  float64\n",
      " 3   V3      284807 non-null  float64\n",
      " 4   V4      284807 non-null  float64\n",
      " 5   V5      284807 non-null  float64\n",
      " 6   V6      284807 non-null  float64\n",
      " 7   V7      284807 non-null  float64\n",
      " 8   V8      284807 non-null  float64\n",
      " 9   V9      284807 non-null  float64\n",
      " 10  V10     284807 non-null  float64\n",
      " 11  V11     284807 non-null  float64\n",
      " 12  V12     284807 non-null  float64\n",
      " 13  V13     284807 non-null  float64\n",
      " 14  V14     284807 non-null  float64\n",
      " 15  V15     284807 non-null  float64\n",
      " 16  V16     284807 non-null  float64\n",
      " 17  V17     284807 non-null  float64\n",
      " 18  V18     284807 non-null  float64\n",
      " 19  V19     284807 non-null  float64\n",
      " 20  V20     284807 non-null  float64\n",
      " 21  V21     284807 non-null  float64\n",
      " 22  V22     284807 non-null  float64\n",
      " 23  V23     284807 non-null  float64\n",
      " 24  V24     284807 non-null  float64\n",
      " 25  V25     284807 non-null  float64\n",
      " 26  V26     284807 non-null  float64\n",
      " 27  V27     284807 non-null  float64\n",
      " 28  V28     284807 non-null  float64\n",
      " 29  Amount  284807 non-null  float64\n",
      " 30  Class   284807 non-null  int64  \n",
      "dtypes: float64(30), int64(1)\n",
      "memory usage: 67.4 MB\n"
     ]
    }
   ],
   "source": [
    "df.info()"
   ]
  },
  {
   "cell_type": "code",
   "execution_count": 201,
   "metadata": {
    "colab": {
     "base_uri": "https://localhost:8080/"
    },
    "id": "E6NbzI2eyQnN",
    "outputId": "617e4e46-3ed5-4e59-dbd2-ae44cc7e76a8"
   },
   "outputs": [
    {
     "data": {
      "text/plain": [
       "array([0, 1])"
      ]
     },
     "execution_count": 201,
     "metadata": {},
     "output_type": "execute_result"
    }
   ],
   "source": [
    "df.Class.unique()"
   ]
  },
  {
   "cell_type": "markdown",
   "metadata": {
    "id": "ctOEEGohtxDg"
   },
   "source": [
    "# Uneven class distribution"
   ]
  },
  {
   "cell_type": "code",
   "execution_count": 202,
   "metadata": {
    "colab": {
     "base_uri": "https://localhost:8080/"
    },
    "id": "GSb37bO6yQnQ",
    "outputId": "349ead46-407b-4172-fdff-5ddd09d056bb"
   },
   "outputs": [
    {
     "data": {
      "text/plain": [
       "Class\n",
       "0    284315\n",
       "1       492\n",
       "Name: count, dtype: int64"
      ]
     },
     "execution_count": 202,
     "metadata": {},
     "output_type": "execute_result"
    }
   ],
   "source": [
    "df.Class.value_counts()"
   ]
  },
  {
   "cell_type": "code",
   "execution_count": 203,
   "metadata": {
    "id": "qpIuOCQByQnU"
   },
   "outputs": [],
   "source": [
    "nf = df[df.Class==0]\n",
    "f = df[df.Class==1]"
   ]
  },
  {
   "cell_type": "markdown",
   "metadata": {
    "id": "B8AQjuWdt1yT"
   },
   "source": [
    "# Extracting random entries of class-0\n",
    "# Total entries are 1.5* NO. of class-1 entries"
   ]
  },
  {
   "cell_type": "code",
   "execution_count": 204,
   "metadata": {
    "id": "frs1ct-JyQnY"
   },
   "outputs": [],
   "source": [
    "nf = nf.sample(738)"
   ]
  },
  {
   "cell_type": "markdown",
   "metadata": {
    "id": "sqSJJfzxuJ6-"
   },
   "source": [
    "# Creating new dataframe"
   ]
  },
  {
   "cell_type": "code",
   "execution_count": 205,
   "metadata": {
    "id": "KwSVp7u2yQnb"
   },
   "outputs": [],
   "source": [
    "data = pd.concat([f, nf], ignore_index=True)"
   ]
  },
  {
   "cell_type": "code",
   "execution_count": 206,
   "metadata": {
    "colab": {
     "base_uri": "https://localhost:8080/"
    },
    "id": "f3fQLr0cyQnf",
    "outputId": "fc2b647e-8056-4d85-d76c-4f40bde9e84f"
   },
   "outputs": [
    {
     "data": {
      "text/plain": [
       "(1230, 31)"
      ]
     },
     "execution_count": 206,
     "metadata": {},
     "output_type": "execute_result"
    }
   ],
   "source": [
    "data.shape"
   ]
  },
  {
   "cell_type": "code",
   "execution_count": 207,
   "metadata": {
    "id": "u-K-HdhtyQni"
   },
   "outputs": [],
   "source": [
    "X = data.drop(['Class'],axis=1)\n",
    "y=data['Class']"
   ]
  },
  {
   "cell_type": "markdown",
   "metadata": {
    "id": "5VtK1_nGuP2A"
   },
   "source": [
    "# Train-Test Split"
   ]
  },
  {
   "cell_type": "code",
   "execution_count": 208,
   "metadata": {
    "id": "0OMK_lXkyQnm"
   },
   "outputs": [],
   "source": [
    "X_train,X_test,y_train,y_test=train_test_split(X,y,test_size=0.2,stratify=y)"
   ]
  },
  {
   "cell_type": "code",
   "execution_count": 209,
   "metadata": {
    "colab": {
     "base_uri": "https://localhost:8080/"
    },
    "id": "ZsrubtAWyQnq",
    "outputId": "78122b7e-1d87-4892-da2e-571a882a389a"
   },
   "outputs": [
    {
     "data": {
      "text/plain": [
       "((984, 30), (246, 30))"
      ]
     },
     "execution_count": 209,
     "metadata": {},
     "output_type": "execute_result"
    }
   ],
   "source": [
    "X_train.shape,X_test.shape"
   ]
  },
  {
   "cell_type": "markdown",
   "metadata": {
    "id": "L-yRp8TvuUF2"
   },
   "source": [
    "# Applying StandardScaler to obtain all the features in similar range"
   ]
  },
  {
   "cell_type": "code",
   "execution_count": 210,
   "metadata": {
    "id": "y8k9Q1z_yQnt"
   },
   "outputs": [],
   "source": [
    "scaler=StandardScaler()\n",
    "X_train=scaler.fit_transform(X_train)\n",
    "X_test=scaler.transform(X_test)"
   ]
  },
  {
   "cell_type": "code",
   "execution_count": 211,
   "metadata": {
    "id": "eg_H4_cRyQnw"
   },
   "outputs": [],
   "source": [
    "y_train=y_train.to_numpy()\n",
    "y_test=y_test.to_numpy()"
   ]
  },
  {
   "cell_type": "markdown",
   "metadata": {
    "id": "wpLnlOopucM3"
   },
   "source": [
    "# Reshaping the input to 3D."
   ]
  },
  {
   "cell_type": "code",
   "execution_count": 212,
   "metadata": {
    "id": "uN99S6I0yQn0"
   },
   "outputs": [],
   "source": [
    "X_train=X_train.reshape(X_train.shape[0],X_train.shape[1],1)\n",
    "X_test=X_test.reshape(X_test.shape[0],X_test.shape[1],1)"
   ]
  },
  {
   "cell_type": "markdown",
   "metadata": {
    "id": "XYYsZnliugPd"
   },
   "source": [
    "# CNN model"
   ]
  },
  {
   "cell_type": "code",
   "execution_count": 213,
   "metadata": {
    "id": "VwMDh-ocyQn3"
   },
   "outputs": [],
   "source": [
    "model=Sequential()\n",
    "model.add(Conv1D(32,2,activation='relu',input_shape=X_train[0].shape))\n",
    "model.add(BatchNormalization())\n",
    "model.add(Dropout(0.2))\n",
    "\n",
    "model.add(Conv1D(64,2,activation='relu'))\n",
    "model.add(BatchNormalization())\n",
    "model.add(Dropout(0.5))\n",
    "\n",
    "model.add(Flatten())\n",
    "model.add(Dense(64,activation='relu'))\n",
    "model.add(Dropout(0.5))\n",
    "\n",
    "model.add(Dense(1,activation='sigmoid'))"
   ]
  },
  {
   "cell_type": "code",
   "execution_count": 214,
   "metadata": {
    "colab": {
     "base_uri": "https://localhost:8080/"
    },
    "id": "NdU4-FziyQn-",
    "outputId": "fddc1966-18ab-47d6-d9ae-51e8a88baf20"
   },
   "outputs": [
    {
     "name": "stdout",
     "output_type": "stream",
     "text": [
      "Model: \"sequential_3\"\n",
      "_________________________________________________________________\n",
      " Layer (type)                Output Shape              Param #   \n",
      "=================================================================\n",
      " conv1d_6 (Conv1D)           (None, 29, 32)            96        \n",
      "                                                                 \n",
      " batch_normalization_6 (Bat  (None, 29, 32)            128       \n",
      " chNormalization)                                                \n",
      "                                                                 \n",
      " dropout_9 (Dropout)         (None, 29, 32)            0         \n",
      "                                                                 \n",
      " conv1d_7 (Conv1D)           (None, 28, 64)            4160      \n",
      "                                                                 \n",
      " batch_normalization_7 (Bat  (None, 28, 64)            256       \n",
      " chNormalization)                                                \n",
      "                                                                 \n",
      " dropout_10 (Dropout)        (None, 28, 64)            0         \n",
      "                                                                 \n",
      " flatten_3 (Flatten)         (None, 1792)              0         \n",
      "                                                                 \n",
      " dense_6 (Dense)             (None, 64)                114752    \n",
      "                                                                 \n",
      " dropout_11 (Dropout)        (None, 64)                0         \n",
      "                                                                 \n",
      " dense_7 (Dense)             (None, 1)                 65        \n",
      "                                                                 \n",
      "=================================================================\n",
      "Total params: 119457 (466.63 KB)\n",
      "Trainable params: 119265 (465.88 KB)\n",
      "Non-trainable params: 192 (768.00 Byte)\n",
      "_________________________________________________________________\n"
     ]
    }
   ],
   "source": [
    "model.summary()"
   ]
  },
  {
   "cell_type": "markdown",
   "metadata": {
    "id": "631noVrgumk_"
   },
   "source": [
    "# Compiling and Fiting"
   ]
  },
  {
   "cell_type": "code",
   "execution_count": 215,
   "metadata": {
    "id": "n5ROzdTiyQoD"
   },
   "outputs": [],
   "source": [
    "model.compile(optimizer=Adam(learning_rate=0.0001),loss='binary_crossentropy',metrics=['accuracy'])"
   ]
  },
  {
   "cell_type": "code",
   "execution_count": 216,
   "metadata": {
    "colab": {
     "base_uri": "https://localhost:8080/"
    },
    "id": "f4MCei45yQoH",
    "outputId": "57fd617b-0297-453f-995a-3b47ab2e7c6e"
   },
   "outputs": [
    {
     "name": "stdout",
     "output_type": "stream",
     "text": [
      "Epoch 1/20\n",
      "31/31 [==============================] - 4s 25ms/step - loss: 0.6087 - accuracy: 0.7266 - val_loss: 0.5515 - val_accuracy: 0.8699\n",
      "Epoch 2/20\n",
      "31/31 [==============================] - 0s 15ms/step - loss: 0.3256 - accuracy: 0.8801 - val_loss: 0.4921 - val_accuracy: 0.8252\n",
      "Epoch 3/20\n",
      "31/31 [==============================] - 1s 17ms/step - loss: 0.2887 - accuracy: 0.9035 - val_loss: 0.4578 - val_accuracy: 0.8293\n",
      "Epoch 4/20\n",
      "31/31 [==============================] - 0s 9ms/step - loss: 0.2699 - accuracy: 0.9136 - val_loss: 0.4189 - val_accuracy: 0.8374\n",
      "Epoch 5/20\n",
      "31/31 [==============================] - 0s 8ms/step - loss: 0.2355 - accuracy: 0.9217 - val_loss: 0.3822 - val_accuracy: 0.8577\n",
      "Epoch 6/20\n",
      "31/31 [==============================] - 0s 8ms/step - loss: 0.2353 - accuracy: 0.9238 - val_loss: 0.3426 - val_accuracy: 0.8780\n",
      "Epoch 7/20\n",
      "31/31 [==============================] - 0s 8ms/step - loss: 0.2017 - accuracy: 0.9329 - val_loss: 0.3028 - val_accuracy: 0.9187\n",
      "Epoch 8/20\n",
      "31/31 [==============================] - 0s 8ms/step - loss: 0.2010 - accuracy: 0.9258 - val_loss: 0.2674 - val_accuracy: 0.9228\n",
      "Epoch 9/20\n",
      "31/31 [==============================] - 0s 9ms/step - loss: 0.2231 - accuracy: 0.9319 - val_loss: 0.2415 - val_accuracy: 0.9268\n",
      "Epoch 10/20\n",
      "31/31 [==============================] - 0s 8ms/step - loss: 0.2232 - accuracy: 0.9289 - val_loss: 0.2161 - val_accuracy: 0.9350\n",
      "Epoch 11/20\n",
      "31/31 [==============================] - 0s 10ms/step - loss: 0.2209 - accuracy: 0.9309 - val_loss: 0.1948 - val_accuracy: 0.9390\n",
      "Epoch 12/20\n",
      "31/31 [==============================] - 0s 8ms/step - loss: 0.2049 - accuracy: 0.9309 - val_loss: 0.1772 - val_accuracy: 0.9553\n",
      "Epoch 13/20\n",
      "31/31 [==============================] - 0s 8ms/step - loss: 0.1974 - accuracy: 0.9350 - val_loss: 0.1671 - val_accuracy: 0.9553\n",
      "Epoch 14/20\n",
      "31/31 [==============================] - 0s 8ms/step - loss: 0.1830 - accuracy: 0.9421 - val_loss: 0.1591 - val_accuracy: 0.9593\n",
      "Epoch 15/20\n",
      "31/31 [==============================] - 0s 8ms/step - loss: 0.1929 - accuracy: 0.9319 - val_loss: 0.1528 - val_accuracy: 0.9593\n",
      "Epoch 16/20\n",
      "31/31 [==============================] - 0s 8ms/step - loss: 0.1985 - accuracy: 0.9339 - val_loss: 0.1504 - val_accuracy: 0.9593\n",
      "Epoch 17/20\n",
      "31/31 [==============================] - 0s 9ms/step - loss: 0.1833 - accuracy: 0.9411 - val_loss: 0.1463 - val_accuracy: 0.9593\n",
      "Epoch 18/20\n",
      "31/31 [==============================] - 0s 8ms/step - loss: 0.1641 - accuracy: 0.9421 - val_loss: 0.1446 - val_accuracy: 0.9593\n",
      "Epoch 19/20\n",
      "31/31 [==============================] - 0s 8ms/step - loss: 0.1658 - accuracy: 0.9441 - val_loss: 0.1446 - val_accuracy: 0.9593\n",
      "Epoch 20/20\n",
      "31/31 [==============================] - 0s 8ms/step - loss: 0.1473 - accuracy: 0.9492 - val_loss: 0.1426 - val_accuracy: 0.9593\n"
     ]
    }
   ],
   "source": [
    "history = model.fit(X_train,y_train,epochs=20,validation_data=(X_test,y_test))"
   ]
  },
  {
   "cell_type": "code",
   "execution_count": 217,
   "metadata": {
    "id": "pOnGAC9dyQoU"
   },
   "outputs": [],
   "source": [
    "def plotLearningCurve(history,epochs):\n",
    "  epochRange = range(1,epochs+1)\n",
    "  plt.plot(epochRange,history.history['accuracy'])\n",
    "  plt.plot(epochRange,history.history['val_accuracy'])\n",
    "  plt.title('Model Accuracy')\n",
    "  plt.xlabel('Epoch')\n",
    "  plt.ylabel('Accuracy')\n",
    "  plt.legend(['Train','Validation'],loc='upper left')\n",
    "  plt.show()\n",
    "\n",
    "  plt.plot(epochRange,history.history['loss'])\n",
    "  plt.plot(epochRange,history.history['val_loss'])\n",
    "  plt.title('Model Loss')\n",
    "  plt.xlabel('Epoch')\n",
    "  plt.ylabel('Loss')\n",
    "  plt.legend(['Train','Validation'],loc='upper left')\n",
    "  plt.show()"
   ]
  },
  {
   "cell_type": "code",
   "execution_count": 218,
   "metadata": {
    "colab": {
     "base_uri": "https://localhost:8080/",
     "height": 926
    },
    "id": "S61145LqHQd-",
    "outputId": "eded8e17-0e8e-4157-c3c2-3ffad24a0e20"
   },
   "outputs": [
    {
     "data": {
      "image/png": "[encoded data removed]",
      "text/plain": [
       "<Figure size 640x480 with 1 Axes>"
      ]
     },
     "metadata": {},
     "output_type": "display_data"
    },
    {
     "data": {
      "image/png": "[encoded data removed]",
      "text/plain": [
       "<Figure size 640x480 with 1 Axes>"
      ]
     },
     "metadata": {},
     "output_type": "display_data"
    }
   ],
   "source": [
    "plotLearningCurve(history,20)"
   ]
  },
  {
   "cell_type": "code",
   "execution_count": 219,
   "metadata": {
    "colab": {
     "base_uri": "https://localhost:8080/"
    },
    "id": "n_u5ixSb_-ck",
    "outputId": "d7555fa9-ff03-40e8-8f25-bd84ab693908"
   },
   "outputs": [
    {
     "name": "stdout",
     "output_type": "stream",
     "text": [
      "8/8 [==============================] - 0s 3ms/step\n",
      "Total predictions greater than 0.5: 158\n"
     ]
    }
   ],
   "source": [
    "import numpy as np\n",
    "\n",
    "def count_predictions_above_threshold(model, X_test, threshold):\n",
    "    predictions = model.predict(X_test).flatten()\n",
    "    count_above_threshold = np.sum(predictions < threshold)\n",
    "    #count_above_threshold = np.sum((predictions > 0.3) & (predictions < 0.90))\n",
    "    return count_above_threshold\n",
    "\n",
    "# Assuming model, X_test are defined and initialized elsewhere:\n",
    "threshold = 0.5\n",
    "count = count_predictions_above_threshold(model, X_test, threshold)\n",
    "print(f\"Total predictions greater than {threshold}: {count}\")\n"
   ]
  },
  {
   "cell_type": "code",
   "execution_count": 220,
   "metadata": {
    "colab": {
     "base_uri": "https://localhost:8080/",
     "height": 1000
    },
    "id": "7XMcnU-qwRjA",
    "outputId": "0d712ddf-82fd-4ba4-9348-410cd6b38278"
   },
   "outputs": [
    {
     "name": "stdout",
     "output_type": "stream",
     "text": [
      "8/8 [==============================] - 0s 2ms/step\n",
      "Initial Accuracy: 0.04\n",
      "Initial Recall: 0.1\n",
      "Initial Precision: 0.06\n",
      "Enter the correct label for index 0 (0 for non-fraud, 1 for fraud): 1\n",
      "Enter the correct label for index 1 (0 for non-fraud, 1 for fraud): 1\n",
      "Enter the correct label for index 2 (0 for non-fraud, 1 for fraud): 1\n",
      "Enter the correct label for index 3 (0 for non-fraud, 1 for fraud): 1\n",
      "Enter the correct label for index 4 (0 for non-fraud, 1 for fraud): 1\n",
      "Enter the correct label for index 7 (0 for non-fraud, 1 for fraud): 1\n",
      "Enter the correct label for index 8 (0 for non-fraud, 1 for fraud): 1\n",
      "Enter the correct label for index 9 (0 for non-fraud, 1 for fraud): 1\n",
      "Enter the correct label for index 10 (0 for non-fraud, 1 for fraud): 1\n",
      "Enter the correct label for index 12 (0 for non-fraud, 1 for fraud): 1\n",
      "Enter the correct label for index 13 (0 for non-fraud, 1 for fraud): 1\n",
      "Enter the correct label for index 14 (0 for non-fraud, 1 for fraud): 1\n",
      "Enter the correct label for index 16 (0 for non-fraud, 1 for fraud): 1\n",
      "Enter the correct label for index 17 (0 for non-fraud, 1 for fraud): 1\n",
      "Enter the correct label for index 18 (0 for non-fraud, 1 for fraud): 1\n",
      "Enter the correct label for index 19 (0 for non-fraud, 1 for fraud): 1\n",
      "Enter the correct label for index 20 (0 for non-fraud, 1 for fraud): 1\n",
      "Enter the correct label for index 25 (0 for non-fraud, 1 for fraud): 1\n",
      "Enter the correct label for index 26 (0 for non-fraud, 1 for fraud): 1\n",
      "Enter the correct label for index 27 (0 for non-fraud, 1 for fraud): 1\n",
      "Enter the correct label for index 28 (0 for non-fraud, 1 for fraud): 1\n",
      "Enter the correct label for index 29 (0 for non-fraud, 1 for fraud): 1\n",
      "Enter the correct label for index 31 (0 for non-fraud, 1 for fraud): 1\n",
      "Enter the correct label for index 32 (0 for non-fraud, 1 for fraud): 1\n",
      "Enter the correct label for index 33 (0 for non-fraud, 1 for fraud): 1\n",
      "Enter the correct label for index 34 (0 for non-fraud, 1 for fraud): 1\n",
      "Enter the correct label for index 35 (0 for non-fraud, 1 for fraud): 1\n",
      "Enter the correct label for index 36 (0 for non-fraud, 1 for fraud): 1\n",
      "Enter the correct label for index 37 (0 for non-fraud, 1 for fraud): 1\n",
      "Enter the correct label for index 38 (0 for non-fraud, 1 for fraud): 1\n",
      "Enter the correct label for index 39 (0 for non-fraud, 1 for fraud): 1\n",
      "Enter the correct label for index 42 (0 for non-fraud, 1 for fraud): 1\n",
      "Enter the correct label for index 44 (0 for non-fraud, 1 for fraud): 1\n",
      "Enter the correct label for index 46 (0 for non-fraud, 1 for fraud): 1\n",
      "Enter the correct label for index 47 (0 for non-fraud, 1 for fraud): 1\n",
      "Enter the correct label for index 48 (0 for non-fraud, 1 for fraud): 1\n",
      "Enter the correct label for index 49 (0 for non-fraud, 1 for fraud): 1\n",
      "Enter the correct label for index 50 (0 for non-fraud, 1 for fraud): 1\n",
      "Enter the correct label for index 51 (0 for non-fraud, 1 for fraud): 1\n",
      "Enter the correct label for index 52 (0 for non-fraud, 1 for fraud): 1\n",
      "Enter the correct label for index 54 (0 for non-fraud, 1 for fraud): 1\n",
      "Enter the correct label for index 55 (0 for non-fraud, 1 for fraud): 1\n",
      "Enter the correct label for index 57 (0 for non-fraud, 1 for fraud): 1\n",
      "Enter the correct label for index 58 (0 for non-fraud, 1 for fraud): 1\n",
      "Enter the correct label for index 59 (0 for non-fraud, 1 for fraud): 1\n",
      "Enter the correct label for index 60 (0 for non-fraud, 1 for fraud): 1\n",
      "Enter the correct label for index 61 (0 for non-fraud, 1 for fraud): 1\n",
      "Enter the correct label for index 64 (0 for non-fraud, 1 for fraud): 1\n",
      "Enter the correct label for index 65 (0 for non-fraud, 1 for fraud): 1\n",
      "Enter the correct label for index 68 (0 for non-fraud, 1 for fraud): 1\n",
      "Enter the correct label for index 72 (0 for non-fraud, 1 for fraud): 1\n",
      "Enter the correct label for index 73 (0 for non-fraud, 1 for fraud): 1\n",
      "Enter the correct label for index 74 (0 for non-fraud, 1 for fraud): 1\n",
      "Enter the correct label for index 77 (0 for non-fraud, 1 for fraud): 1\n",
      "Enter the correct label for index 80 (0 for non-fraud, 1 for fraud): 1\n",
      "Enter the correct label for index 82 (0 for non-fraud, 1 for fraud): 1\n",
      "Enter the correct label for index 85 (0 for non-fraud, 1 for fraud): 1\n",
      "Enter the correct label for index 86 (0 for non-fraud, 1 for fraud): 1\n",
      "Enter the correct label for index 87 (0 for non-fraud, 1 for fraud): 1\n",
      "Enter the correct label for index 88 (0 for non-fraud, 1 for fraud): 1\n",
      "Enter the correct label for index 89 (0 for non-fraud, 1 for fraud): 1\n",
      "Enter the correct label for index 91 (0 for non-fraud, 1 for fraud): 1\n",
      "Enter the correct label for index 92 (0 for non-fraud, 1 for fraud): 1\n",
      "Enter the correct label for index 93 (0 for non-fraud, 1 for fraud): 1\n",
      "Enter the correct label for index 95 (0 for non-fraud, 1 for fraud): 1\n",
      "Enter the correct label for index 97 (0 for non-fraud, 1 for fraud): 1\n",
      "Enter the correct label for index 101 (0 for non-fraud, 1 for fraud): 1\n",
      "Enter the correct label for index 102 (0 for non-fraud, 1 for fraud): 1\n",
      "Enter the correct label for index 106 (0 for non-fraud, 1 for fraud): 1\n",
      "Enter the correct label for index 107 (0 for non-fraud, 1 for fraud): 1\n",
      "Enter the correct label for index 108 (0 for non-fraud, 1 for fraud): 1\n",
      "Enter the correct label for index 110 (0 for non-fraud, 1 for fraud): 1\n",
      "Enter the correct label for index 113 (0 for non-fraud, 1 for fraud): 1\n",
      "Enter the correct label for index 114 (0 for non-fraud, 1 for fraud): 1\n",
      "Enter the correct label for index 115 (0 for non-fraud, 1 for fraud): 1\n",
      "Enter the correct label for index 116 (0 for non-fraud, 1 for fraud): 1\n",
      "Enter the correct label for index 117 (0 for non-fraud, 1 for fraud): 1\n",
      "Enter the correct label for index 119 (0 for non-fraud, 1 for fraud): 1\n",
      "Enter the correct label for index 120 (0 for non-fraud, 1 for fraud): 1\n",
      "Enter the correct label for index 123 (0 for non-fraud, 1 for fraud): 1\n",
      "Enter the correct label for index 124 (0 for non-fraud, 1 for fraud): 1\n",
      "Enter the correct label for index 128 (0 for non-fraud, 1 for fraud): 1\n",
      "Enter the correct label for index 129 (0 for non-fraud, 1 for fraud): 1\n",
      "Enter the correct label for index 130 (0 for non-fraud, 1 for fraud): 1\n",
      "Enter the correct label for index 131 (0 for non-fraud, 1 for fraud): 1\n",
      "Enter the correct label for index 133 (0 for non-fraud, 1 for fraud): 1\n",
      "Enter the correct label for index 134 (0 for non-fraud, 1 for fraud): 1\n",
      "Enter the correct label for index 135 (0 for non-fraud, 1 for fraud): 1\n",
      "Enter the correct label for index 136 (0 for non-fraud, 1 for fraud): 1\n",
      "Enter the correct label for index 137 (0 for non-fraud, 1 for fraud): 1\n",
      "Enter the correct label for index 139 (0 for non-fraud, 1 for fraud): 1\n",
      "Enter the correct label for index 144 (0 for non-fraud, 1 for fraud): 1\n",
      "Enter the correct label for index 146 (0 for non-fraud, 1 for fraud): 1\n",
      "Enter the correct label for index 147 (0 for non-fraud, 1 for fraud): 1\n",
      "Enter the correct label for index 148 (0 for non-fraud, 1 for fraud): 1\n",
      "Enter the correct label for index 149 (0 for non-fraud, 1 for fraud): 1\n",
      "Enter the correct label for index 150 (0 for non-fraud, 1 for fraud): 1\n",
      "Enter the correct label for index 151 (0 for non-fraud, 1 for fraud): 1\n",
      "Enter the correct label for index 152 (0 for non-fraud, 1 for fraud): 1\n",
      "Enter the correct label for index 154 (0 for non-fraud, 1 for fraud): 1\n",
      "Enter the correct label for index 156 (0 for non-fraud, 1 for fraud): 1\n",
      "Enter the correct label for index 158 (0 for non-fraud, 1 for fraud): 1\n",
      "Enter the correct label for index 159 (0 for non-fraud, 1 for fraud): 1\n",
      "Enter the correct label for index 161 (0 for non-fraud, 1 for fraud): 1\n",
      "Enter the correct label for index 162 (0 for non-fraud, 1 for fraud): 1\n",
      "Enter the correct label for index 163 (0 for non-fraud, 1 for fraud): 1\n",
      "Enter the correct label for index 164 (0 for non-fraud, 1 for fraud): 1\n",
      "Enter the correct label for index 168 (0 for non-fraud, 1 for fraud): 1\n",
      "Enter the correct label for index 169 (0 for non-fraud, 1 for fraud): 1\n",
      "Enter the correct label for index 170 (0 for non-fraud, 1 for fraud): 1\n",
      "Enter the correct label for index 171 (0 for non-fraud, 1 for fraud): 1\n",
      "Enter the correct label for index 172 (0 for non-fraud, 1 for fraud): 1\n",
      "Enter the correct label for index 173 (0 for non-fraud, 1 for fraud): 1\n",
      "Enter the correct label for index 175 (0 for non-fraud, 1 for fraud): 1\n",
      "Enter the correct label for index 176 (0 for non-fraud, 1 for fraud): 1\n",
      "Enter the correct label for index 178 (0 for non-fraud, 1 for fraud): 1\n",
      "Enter the correct label for index 182 (0 for non-fraud, 1 for fraud): 1\n",
      "Enter the correct label for index 183 (0 for non-fraud, 1 for fraud): 1\n",
      "Enter the correct label for index 184 (0 for non-fraud, 1 for fraud): 1\n",
      "Enter the correct label for index 186 (0 for non-fraud, 1 for fraud): 1\n",
      "Enter the correct label for index 187 (0 for non-fraud, 1 for fraud): 1\n",
      "Enter the correct label for index 188 (0 for non-fraud, 1 for fraud): 1\n",
      "Enter the correct label for index 190 (0 for non-fraud, 1 for fraud): 1\n",
      "Enter the correct label for index 192 (0 for non-fraud, 1 for fraud): 1\n",
      "Enter the correct label for index 193 (0 for non-fraud, 1 for fraud): 1\n",
      "Enter the correct label for index 198 (0 for non-fraud, 1 for fraud): 1\n",
      "Enter the correct label for index 199 (0 for non-fraud, 1 for fraud): 1\n",
      "Enter the correct label for index 200 (0 for non-fraud, 1 for fraud): 1\n",
      "Enter the correct label for index 201 (0 for non-fraud, 1 for fraud): 1\n",
      "Enter the correct label for index 202 (0 for non-fraud, 1 for fraud): 1\n",
      "Enter the correct label for index 203 (0 for non-fraud, 1 for fraud): 1\n",
      "Enter the correct label for index 204 (0 for non-fraud, 1 for fraud): 1\n",
      "Enter the correct label for index 205 (0 for non-fraud, 1 for fraud): 1\n",
      "Enter the correct label for index 206 (0 for non-fraud, 1 for fraud): 1\n",
      "Enter the correct label for index 210 (0 for non-fraud, 1 for fraud): 1\n",
      "Enter the correct label for index 211 (0 for non-fraud, 1 for fraud): 1\n",
      "Enter the correct label for index 212 (0 for non-fraud, 1 for fraud): 1\n",
      "Enter the correct label for index 213 (0 for non-fraud, 1 for fraud): 1\n",
      "Enter the correct label for index 214 (0 for non-fraud, 1 for fraud): 1\n",
      "Enter the correct label for index 216 (0 for non-fraud, 1 for fraud): 1\n",
      "Enter the correct label for index 217 (0 for non-fraud, 1 for fraud): 1\n",
      "Enter the correct label for index 218 (0 for non-fraud, 1 for fraud): 1\n",
      "Enter the correct label for index 219 (0 for non-fraud, 1 for fraud): 1\n",
      "Enter the correct label for index 220 (0 for non-fraud, 1 for fraud): 1\n",
      "Enter the correct label for index 222 (0 for non-fraud, 1 for fraud): 1\n",
      "Enter the correct label for index 224 (0 for non-fraud, 1 for fraud): 1\n",
      "Enter the correct label for index 225 (0 for non-fraud, 1 for fraud): 1\n",
      "Enter the correct label for index 226 (0 for non-fraud, 1 for fraud): 1\n",
      "Enter the correct label for index 232 (0 for non-fraud, 1 for fraud): 1\n",
      "Enter the correct label for index 235 (0 for non-fraud, 1 for fraud): 1\n",
      "Enter the correct label for index 236 (0 for non-fraud, 1 for fraud): 1\n",
      "Enter the correct label for index 238 (0 for non-fraud, 1 for fraud): 1\n",
      "Enter the correct label for index 239 (0 for non-fraud, 1 for fraud): 1\n",
      "Enter the correct label for index 240 (0 for non-fraud, 1 for fraud): 1\n",
      "Enter the correct label for index 241 (0 for non-fraud, 1 for fraud): 1\n",
      "Enter the correct label for index 243 (0 for non-fraud, 1 for fraud): 1\n",
      "Enter the correct label for index 244 (0 for non-fraud, 1 for fraud): 1\n",
      "Enter the correct label for index 245 (0 for non-fraud, 1 for fraud): 1\n",
      "Corrected Accuracy: 0.6\n",
      "Corrected Recall: 0.6\n",
      "Corrected Precision: 1\n"
     ]
    },
    {
     "data": {
      "image/png": "[encoded data removed]",
      "text/plain": [
       "<Figure size 640x480 with 1 Axes>"
      ]
     },
     "metadata": {},
     "output_type": "display_data"
    }
   ],
   "source": [
    "import numpy as np\n",
    "import matplotlib.pyplot as plt\n",
    "from sklearn.metrics import accuracy_score, recall_score, precision_score\n",
    "\n",
    "def human_review_and_plot(model, X_test, y_test):\n",
    "    predictions = model.predict(X_test).flatten()\n",
    "    corrected_labels = y_test.copy()\n",
    "\n",
    "    # Record initial accuracy, recall and precision\n",
    "    initial_accuracy = accuracy_score(y_test, predictions < 0.5)\n",
    "    print(\"Initial Accuracy:\", \"{:.1g}\".format(initial_accuracy))\n",
    "\n",
    "    initial_recall = recall_score(y_test, predictions < 0.5)\n",
    "    print(\"Initial Recall:\", \"{:.1g}\".format(initial_recall))\n",
    "\n",
    "    initial_precision = precision_score(y_test, predictions < 0.5)\n",
    "    print(\"Initial Precision:\", \"{:.1g}\".format(initial_precision))\n",
    "\n",
    "    # Loop over uncertain cases for human review\n",
    "    for index in np.where(predictions < 0.5)[0]:\n",
    "        human_label = int(input(f\"Enter the correct label for index {index} (0 for non-fraud, 1 for fraud): \"))\n",
    "        corrected_labels[index] = human_label\n",
    "\n",
    "    # Evaluate corrected accuracy, recall and precision\n",
    "    corrected_accuracy = accuracy_score(corrected_labels, predictions < 0.5)\n",
    "    print(\"Corrected Accuracy:\", \"{:.1g}\".format(corrected_accuracy))\n",
    "\n",
    "    corrected_recall = recall_score(corrected_labels, predictions < 0.5)\n",
    "    print(\"Corrected Recall:\", \"{:.1g}\".format(corrected_recall))\n",
    "\n",
    "    corrected_precision = precision_score(corrected_labels, predictions < 0.5)\n",
    "    print(\"Corrected Precision:\", \"{:.1g}\".format(corrected_precision))\n",
    "\n",
    "    # Plotting the metrics\n",
    "    metrics = ['Accuracy', 'Recall', 'Precision']\n",
    "    initial_values = [initial_accuracy, initial_recall, initial_precision]\n",
    "    corrected_values = [corrected_accuracy, corrected_recall, corrected_precision]\n",
    "\n",
    "    x = np.arange(len(metrics))\n",
    "    width = 0.35\n",
    "\n",
    "    fig, ax = plt.subplots()\n",
    "    rects1 = ax.bar(x - width/2, initial_values, width, label='Initial', color='blue')\n",
    "    rects2 = ax.bar(x + width/2, corrected_values, width, label='Corrected', color='green')\n",
    "\n",
    "    ax.set_ylabel('Scores')\n",
    "    ax.set_title('Scores after HITL for score <50%')\n",
    "    ax.set_xticks(x)\n",
    "    ax.set_xticklabels(metrics)\n",
    "    ax.legend()\n",
    "1\n",
    "    ax.bar_label(rects1, padding=3, fmt='%.1g')\n",
    "    ax.bar_label(rects2, padding=3, fmt='%.1g')\n",
    "\n",
    "    fig.tight_layout()\n",
    "    plt.show()\n",
    "\n",
    "    return initial_accuracy, corrected_accuracy, initial_recall, corrected_recall, initial_precision, corrected_precision\n",
    "\n",
    "results = human_review_and_plot(model, X_test, y_test)\n"
   ]
  }
 ],
 "metadata": {
  "colab": {
   "provenance": []
  },
  "kernelspec": {
   "display_name": "Python 3 (ipykernel)",
   "language": "python",
   "name": "python3"
  },
  "language_info": {
   "codemirror_mode": {
    "name": "ipython",
    "version": 3
   },
   "file_extension": ".py",
   "mimetype": "text/x-python",
   "name": "python",
   "nbconvert_exporter": "python",
   "pygments_lexer": "ipython3",
   "version": "3.12.0"
  }
 },
 "nbformat": 4,
 "nbformat_minor": 4
}
